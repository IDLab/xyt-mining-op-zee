{
 "cells": [
  {
   "cell_type": "markdown",
   "metadata": {},
   "source": [
    "# Stoplocaties clusteren en visualiseren op kaart\n",
    "We hebben als eerst de data pre-processed. Daarna hebben verschillende parameters getest voor de DBScan. De output hebben we gevisualiseerd en via deze visualisatie kunnen we met de hand beslissen wat interessante parameters zijn voor de DBScan. Wij hebben als doel om stoplocaties te clusteren dus kiezen daarom parameters die een lage u-score hebben. Gezien uit de visualisaties blijkt dat er geen eenduidige solution space is tussen verschillende schepen, selecteren we de juiste parameters met de hand. \n",
    "\n",
    "De output uit de DBScan visualiseren op een interactieve kaart. Nu kunnen we in één opslag zien waar de stoplocaties zich bevinden op zee. "
   ]
  },
  {
   "cell_type": "code",
   "execution_count": null,
   "metadata": {},
   "outputs": [],
   "source": [
    "# Laden van packages\n",
    "import pandas as pd, numpy as np, matplotlib.pyplot as plt\n",
    "from sklearn.cluster import DBSCAN\n",
    "from geopy.distance import great_circle\n",
    "from shapely.geometry import MultiPoint\n",
    "from sklearn import preprocessing\n",
    "from bokeh.plotting import figure, output_file, show\n",
    "from bokeh.io import push_notebook, show, output_notebook, curdoc, show\n",
    "from bokeh.models import ColumnDataSource, Plot, LinearAxis, Grid\n",
    "from bokeh.models.glyphs import VBar\n",
    "from sklearn import metrics\n",
    "from sklearn.datasets.samples_generator import make_blobs\n",
    "from sklearn.preprocessing import StandardScaler\n",
    "from sklearn.metrics import precision_score\n",
    "from sklearn.metrics import recall_score\n",
    "from sklearn.metrics import average_precision_score\n",
    "import folium\n",
    "import seaborn as sns"
   ]
  },
  {
   "cell_type": "code",
   "execution_count": null,
   "metadata": {},
   "outputs": [],
   "source": [
    "# Laden pre-processed csv\n",
    "df = pd.read_csv(\"sample_AIS_preprocessing.csv\")"
   ]
  },
  {
   "cell_type": "markdown",
   "metadata": {},
   "source": [
    "#### Voer DBScan uit met parameters die stoplocaties detecteren\n",
    "Aan de DBScan geven we die parameters mee waarvan we in het vorige script hebben gezien dat deze leidt tot het clusteren van alleen stoplocaties en dat de varende punten worden gezien als ruis. \n",
    "\n",
    "Daarnaast kunnen we variëren in welke features we meegeven (uitleg features staan in 2de script). Mogelijke features zijn: t_latitude (latitude), t_longitude (longitude), VgNr (volgnummer met tijdselement), ID (volgnummer zonder tijdselement), t_speed (snelheid), angle_deg_diff (koersstabiliteit). "
   ]
  },
  {
   "cell_type": "code",
   "execution_count": null,
   "metadata": {},
   "outputs": [],
   "source": [
    "# Features in array-format meegeven. \n",
    "coords_speed = np.asarray(df[['t_latitude', 't_longitude', \"VgNr\", \"t_speed\"]])\n",
    "# Features normaliseren, zodat ze met elkaar vergelijkbaar worden\n",
    "coords = preprocessing.scale(coords_speed)\n",
    "\n",
    "# Functie die DBScan runt, evalueert en output toevoegd aan dataframe\n",
    "def dbs(df, coords, eps, min_samples):\n",
    "    # DBScan uitvoeren\n",
    "    model = DBSCAN(eps=eps, min_samples=min_samples, algorithm=\"auto\").fit(coords)\n",
    "    cluster_labels = model.labels_  #clusterlabels\n",
    "    num_clusters = len(set(cluster_labels)) #aantal clusters\n",
    "    df[\"cluster\"] = cluster_labels #clusterlabels naar kolom df\n",
    "    print('Number of clusters: {}'.format(num_clusters))\n",
    "\n",
    "    # Model evalueren op basis van navigatiestatus\n",
    "    ## Toewijzen of punt ruis of cluster is basis van uitkomen DBScan\n",
    "    stoplocation = []\n",
    "    for stop in df[\"cluster\"]:\n",
    "        if stop == -1:\n",
    "            stoplocation.append(0)\n",
    "        else:\n",
    "            stoplocation.append(1)\n",
    "    \n",
    "    ## Toewijzen of punt ruis of cluster is basis van navigatiestatus\n",
    "    ### NAVIGATIESTATUS 1=aan anker, 5=aangemeerd, 6=aan de grond\n",
    "    stop_nav = []\n",
    "    for stop in df[\"t_navstatus\"]:\n",
    "        if stop == 1:\n",
    "            stop_nav.append(1)\n",
    "        elif stop == 5:\n",
    "            stop_nav.append(1)\n",
    "        elif stop == 6:\n",
    "            stop_nav.append(1)\n",
    "        else:\n",
    "            stop_nav.append(0)\n",
    "    \n",
    "    # Toevoegen aan kolom\n",
    "    df[\"stoplocation\"] = stoplocation\n",
    "    df[\"stop_nav\"] = stop_nav\n",
    "    y_true = df[\"stop_nav\"]\n",
    "    y_pred = df[\"stoplocation\"]\n",
    "    \n",
    "    # Evalueren model\n",
    "    print(\"Homogeneity: %0.3f\" % metrics.homogeneity_score(y_true, y_pred))\n",
    "    print(\"Completeness: %0.3f\" % metrics.completeness_score(y_true, y_pred))\n",
    "    print(\"V-measure: %0.3f\" % metrics.v_measure_score(y_true, y_pred))\n",
    "    print(\"Adjusted Rand Index: %0.3f\" % metrics.adjusted_rand_score(y_true, y_pred))\n",
    "    print(\"Adjusted Mutual Information: %0.3f\" % metrics.adjusted_mutual_info_score(y_true, y_pred))\n",
    "    print(\"precision score is: %0.3f\" % precision_score(y_true, y_pred, average=\"weighted\"))\n",
    "    print(\"recall score is: %0.3f\" % recall_score(y_true, y_pred, average=\"weighted\"))\n",
    "    print(\"aantal punten per navigatiestatus:\")\n",
    "    print(df.groupby(\"t_navstatus\")[\"t_mmsi\"].count())        \n",
    "    print(\"aantal punten per cluster:\")\n",
    "    print(df.groupby(\"cluster\")[\"t_mmsi\"].count())\n",
    "    return(df)\n",
    "\n",
    "# Run functie DBS met juiste parameters\n",
    "df = dbs(df=df, coords=coords, eps=0.3, min_samples=30)"
   ]
  },
  {
   "cell_type": "markdown",
   "metadata": {},
   "source": [
    "##### Evalueren uitkomst DBScan met visualisaties"
   ]
  },
  {
   "cell_type": "code",
   "execution_count": null,
   "metadata": {},
   "outputs": [],
   "source": [
    "# Plot navigatiestatus: snelheid vs. tijd  \n",
    "sns.scatterplot(x=\"VgNr\", y=\"t_speed\", hue=\"t_navstatus\", data=df, legend=\"full\")"
   ]
  },
  {
   "cell_type": "code",
   "execution_count": null,
   "metadata": {},
   "outputs": [],
   "source": [
    "# Plot clusters: snelheid vs. tijd\n",
    "sns.scatterplot(x=\"VgNr\", y=\"t_speed\", hue=\"cluster\", data=df, legend=\"full\")"
   ]
  },
  {
   "cell_type": "code",
   "execution_count": null,
   "metadata": {},
   "outputs": [],
   "source": [
    "# Plot cluster: snelheid vs. koersstabiliteit\n",
    "sns.scatterplot(x=\"t_speed\", y=\"angle_deg_diff\", hue=\"cluster\", data=df, legend=\"full\")"
   ]
  },
  {
   "cell_type": "code",
   "execution_count": null,
   "metadata": {},
   "outputs": [],
   "source": [
    "#  Plot cluster: Volgnummer vs. koersstabiliteit\n",
    "sns.scatterplot(x=\"VgNr\", y=\"angle_deg_diff\", hue=\"cluster\", data=df, legend=\"full\")"
   ]
  },
  {
   "cell_type": "markdown",
   "metadata": {},
   "source": [
    "##### Plot clusters op kaart\n",
    "Nu gaan we de clusters plotten op een interactieve kaart. De package die we hiervoor gebruiken is folium en leaflet. "
   ]
  },
  {
   "cell_type": "code",
   "execution_count": null,
   "metadata": {},
   "outputs": [],
   "source": [
    "# Creëer kleurmap per cluster (straks voor visualisatie kaart)\n",
    "colors = []\n",
    "for stop in df[\"cluster\"]:\n",
    "    if stop == -1:\n",
    "        colors.append(\"black\")\n",
    "    elif stop == 0:\n",
    "        colors.append(\"red\")\n",
    "    elif stop == 1:\n",
    "        colors.append(\"orange\")\n",
    "    elif stop == 2:\n",
    "        colors.append(\"pink\")\n",
    "    elif stop == 3:\n",
    "        colors.append(\"blue\")\n",
    "    elif stop == 4:\n",
    "        colors.append(\"beige\")\n",
    "    elif stop == 5:\n",
    "        colors.append(\"purple\")\n",
    "    elif stop == 6:\n",
    "        colors.append(\"gray\")\n",
    "    elif stop == 7:\n",
    "        colors.append(\"white\")\n",
    "    elif stop == 8:\n",
    "        colors.append(\"darkgreen\")\n",
    "    elif stop == 9:\n",
    "        colors.append(\"yellow\")\n",
    "    elif stop == 10:\n",
    "        colors.append(\"lightblue\")\n",
    "    else:\n",
    "        colors.append(\"green\")\n",
    "df[\"colors\"] = colors"
   ]
  },
  {
   "cell_type": "code",
   "execution_count": null,
   "metadata": {},
   "outputs": [],
   "source": [
    "# Creëer interactieve kaart\n",
    "\n",
    "# Pak de middelste lon/lat punt\n",
    "mid_location = df['t_latitude'].mean(), df['t_longitude'].mean()\n",
    "\n",
    "# Lat/lon naar list\n",
    "coords_map = df[[\"t_latitude\", \"t_longitude\"]].values.tolist()\n",
    "\n",
    "# Assign labels en kleuren aan clusters\n",
    "labels = \"ID:\"+df[\"VgNr\"].astype(str) +' '+df[\"t_name\"]\n",
    "colors = df[\"colors\"].values.tolist()\n",
    "\n",
    "# Creëer een folium map met de coordinaten\n",
    "m = folium.Map(location=mid_location, zoom_start=8)\n",
    "for point in range(len(coords_map)):\n",
    "    popup = folium.Popup(labels[point], parse_html=True) #labels\n",
    "    folium.Circle(coords_map[point],\n",
    "                  color=colors[point],\n",
    "                  radius=5,\n",
    "                  popup=popup).add_to(m)\n",
    "\n",
    "# Sla kaart op als HTML \n",
    "m.save('sample_color_cluster.html')"
   ]
  }
 ],
 "metadata": {
  "kernelspec": {
   "display_name": "Python 3",
   "language": "python",
   "name": "python3"
  },
  "language_info": {
   "codemirror_mode": {
    "name": "ipython",
    "version": 3
   },
   "file_extension": ".py",
   "mimetype": "text/x-python",
   "name": "python",
   "nbconvert_exporter": "python",
   "pygments_lexer": "ipython3",
   "version": "3.7.2"
  }
 },
 "nbformat": 4,
 "nbformat_minor": 2
}
