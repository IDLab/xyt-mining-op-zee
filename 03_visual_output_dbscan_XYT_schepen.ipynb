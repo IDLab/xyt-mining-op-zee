{
 "cells": [
  {
   "cell_type": "markdown",
   "metadata": {},
   "source": [
    "# Visualiseren output parameters\n",
    "In het vorige script hebben een functie gemaakt die elke parameter combinatie van de DBScan een u-score toekent. Dit hebben we gedaan om zicht te krijgen welke parameters we moeten selecteren om stoplocaties te clusteren met behulp van de DBScan. De output uit deze functie gaan we nu visualiseren, zodat we de beste combinatie van parameters kunnen selecteren en deze kunnen invoeren in de DBScan. "
   ]
  },
  {
   "cell_type": "code",
   "execution_count": null,
   "metadata": {},
   "outputs": [],
   "source": [
    "# Laden packages\n",
    "import pandas as pd, numpy as np, matplotlib.pyplot as plt\n",
    "from scipy.stats import mannwhitneyu\n",
    "from sklearn.cluster import DBSCAN\n",
    "from geopy.distance import great_circle\n",
    "from shapely.geometry import MultiPoint\n",
    "from sklearn import preprocessing\n",
    "import seaborn as sns\n",
    "# from sklearn.metrics import average_precision_score \n",
    "from sklearn.metrics import precision_score\n",
    "from sklearn.metrics import classification_report\n",
    "from sklearn.metrics import recall_score\n",
    "from sklearn.metrics import confusion_matrix\n",
    "import sklearn\n",
    "import multiprocessing as mp\n",
    "from scipy.interpolate import griddata\n",
    "from matplotlib.cm import coolwarm"
   ]
  },
  {
   "cell_type": "code",
   "execution_count": null,
   "metadata": {},
   "outputs": [],
   "source": [
    "# Laden output vorige script\n",
    "output_df = pd.read_csv(\"sample_output.csv\")"
   ]
  },
  {
   "cell_type": "markdown",
   "metadata": {},
   "source": [
    "##### Voeg filters toe\n",
    "Hier verwijderen we de rijen waarbij de output 1 ruis of 1 stop cluster was. "
   ]
  },
  {
   "cell_type": "code",
   "execution_count": null,
   "metadata": {},
   "outputs": [],
   "source": [
    "# filter om rij met 1 stop of 1 ruis cluster te verwijderen\n",
    "output_df = output_df[output_df.count_cluster != 0]\n",
    "output_df = output_df[output_df.count_ruis != 0]\n",
    "\n",
    "## Filter om punten te verwijderen met een u-score boven 20.000\n",
    "# output_df[\"u\"] = np.minimum(output_df[\"u\"], 20000)\n",
    "\n",
    "## Visualiseer alleen punten tussen de waarde.. en ...\n",
    "#output_df = output_df[(output_df[\"count_cluster\"] > 400) & (output_df[\"count_cluster\"] < 600)]"
   ]
  },
  {
   "cell_type": "markdown",
   "metadata": {},
   "source": [
    "##### Visualiseer u-score: epsilon vs. minimal samples"
   ]
  },
  {
   "cell_type": "code",
   "execution_count": null,
   "metadata": {
    "scrolled": true
   },
   "outputs": [],
   "source": [
    "# Creëer heatmap van u-scores om zo de juiste parameters te kunnen selecteren. Waarbij epsilon op de x-as staat en minimal samples op y-as.\n",
    "# creëer array's\n",
    "x = np.array(output_df[\"eps\"]).round(3)  # rond epsilon af om leesbaarheid x-as te verbeteren\n",
    "y = np.array(output_df[\"min_samples\"])\n",
    "z = np.array(output_df[\"u\"])\n",
    "\n",
    "# creëer pivot tabel\n",
    "results = pd.DataFrame.from_dict(np.array([x,y,z]).T)\n",
    "results.columns = ['x','y','z']\n",
    "pivotted = results.pivot('y','x','z')\n",
    "\n",
    "# Visualiseer pivot tabel met seaborn heatmap\n",
    "sns.set()\n",
    "ax=sns.heatmap(pivotted, cmap=\"Spectral\")\n",
    "ax.invert_yaxis() # draai heatmap"
   ]
  },
  {
   "cell_type": "code",
   "execution_count": null,
   "metadata": {},
   "outputs": [],
   "source": [
    "# Scatterplot count clusters en ruis\n",
    "# u_plots = output_df.copy()\n",
    "u_plot = pd.melt(output_df, id_vars=[\"u\"], value_vars=[\"count_cluster\", \"count_ruis\"])\n",
    "sns.scatterplot(x=\"u\", y=\"value\", hue = \"variable\", data=u_plot)"
   ]
  },
  {
   "cell_type": "code",
   "execution_count": null,
   "metadata": {},
   "outputs": [],
   "source": [
    "## Creëer contourplot u-scores: epsilon vs. minimal samples\n",
    "%matplotlib inline\n",
    "\n",
    "# functie die grid maakt\n",
    "def plot_contour(x,y,z,resolution = 1000,contour_method='linear'):\n",
    "    resolution = str(resolution)+'j'\n",
    "    X,Y = np.mgrid[min(x):max(x):complex(resolution),   min(y):max(y):complex(resolution)]\n",
    "    points = [[a,b] for a,b in zip(x,y)]\n",
    "    Z = griddata(points, z, (X, Y), method=contour_method)\n",
    "    return X,Y,Z\n",
    "\n",
    "X,Y,Z = plot_contour(x,y,z,resolution = 1000,contour_method='linear')\n",
    "\n",
    "# contourplot aanmaken\n",
    "with plt.style.context(\"seaborn-pastel\"):\n",
    "    fig, ax = plt.subplots(figsize=(13,8))\n",
    "    ax.scatter(x,y, color=\"black\", linewidth=1, edgecolor=\"ivory\", s=50)\n",
    "    img = ax.contourf(X,Y,Z,100)\n",
    "    fig.colorbar(img)"
   ]
  }
 ],
 "metadata": {
  "kernelspec": {
   "display_name": "Python 3",
   "language": "python",
   "name": "python3"
  },
  "language_info": {
   "codemirror_mode": {
    "name": "ipython",
    "version": 3
   },
   "file_extension": ".py",
   "mimetype": "text/x-python",
   "name": "python",
   "nbconvert_exporter": "python",
   "pygments_lexer": "ipython3",
   "version": "3.7.2"
  }
 },
 "nbformat": 4,
 "nbformat_minor": 2
}
